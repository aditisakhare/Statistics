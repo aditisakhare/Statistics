{
 "cells": [
  {
   "cell_type": "markdown",
   "id": "bc9f3f98",
   "metadata": {},
   "source": [
    "### Ice Cream Shop\n",
    "NY - 12,327 \n",
    "LA - 17,129\n",
    "SF - 19,923"
   ]
  },
  {
   "cell_type": "markdown",
   "id": "98a5a5cd",
   "metadata": {},
   "source": [
    "### Frequency Distribution Table"
   ]
  },
  {
   "cell_type": "code",
   "execution_count": 9,
   "id": "a8ae32a7",
   "metadata": {},
   "outputs": [],
   "source": [
    "import pandas as pd"
   ]
  },
  {
   "cell_type": "code",
   "execution_count": 97,
   "id": "a2c86de3",
   "metadata": {},
   "outputs": [],
   "source": [
    "data = [['New York',12327],['LA',17129],['San Francisco',19923]]\n",
    "df = pd.DataFrame(data, columns=['City','Freq Distribution'])"
   ]
  },
  {
   "cell_type": "code",
   "execution_count": 98,
   "id": "3dda09e5",
   "metadata": {
    "scrolled": true
   },
   "outputs": [
    {
     "data": {
      "text/html": [
       "<div>\n",
       "<style scoped>\n",
       "    .dataframe tbody tr th:only-of-type {\n",
       "        vertical-align: middle;\n",
       "    }\n",
       "\n",
       "    .dataframe tbody tr th {\n",
       "        vertical-align: top;\n",
       "    }\n",
       "\n",
       "    .dataframe thead th {\n",
       "        text-align: right;\n",
       "    }\n",
       "</style>\n",
       "<table border=\"1\" class=\"dataframe\">\n",
       "  <thead>\n",
       "    <tr style=\"text-align: right;\">\n",
       "      <th></th>\n",
       "      <th>City</th>\n",
       "      <th>Freq Distribution</th>\n",
       "    </tr>\n",
       "  </thead>\n",
       "  <tbody>\n",
       "    <tr>\n",
       "      <th>0</th>\n",
       "      <td>New York</td>\n",
       "      <td>12327.0</td>\n",
       "    </tr>\n",
       "    <tr>\n",
       "      <th>1</th>\n",
       "      <td>LA</td>\n",
       "      <td>17129.0</td>\n",
       "    </tr>\n",
       "    <tr>\n",
       "      <th>2</th>\n",
       "      <td>San Francisco</td>\n",
       "      <td>19923.0</td>\n",
       "    </tr>\n",
       "    <tr>\n",
       "      <th>Total</th>\n",
       "      <td>NaN</td>\n",
       "      <td>49379.0</td>\n",
       "    </tr>\n",
       "  </tbody>\n",
       "</table>\n",
       "</div>"
      ],
      "text/plain": [
       "                City  Freq Distribution\n",
       "0           New York            12327.0\n",
       "1                 LA            17129.0\n",
       "2      San Francisco            19923.0\n",
       "Total            NaN            49379.0"
      ]
     },
     "execution_count": 98,
     "metadata": {},
     "output_type": "execute_result"
    }
   ],
   "source": [
    "df.append(df.sum(numeric_only=True).rename('Total'))"
   ]
  },
  {
   "cell_type": "code",
   "execution_count": 102,
   "id": "f4a1651f",
   "metadata": {},
   "outputs": [],
   "source": [
    "#plt.table(cellText=data,colLabels=['City','Freq Distribution'],loc='bottom')\n",
    "#plt.show()"
   ]
  },
  {
   "cell_type": "markdown",
   "id": "09e7e9ef",
   "metadata": {},
   "source": [
    "### Bar Chart"
   ]
  },
  {
   "cell_type": "code",
   "execution_count": 15,
   "id": "e4e7e295",
   "metadata": {},
   "outputs": [],
   "source": [
    "import matplotlib.pyplot as plt\n"
   ]
  },
  {
   "cell_type": "code",
   "execution_count": 46,
   "id": "2e39ff54",
   "metadata": {},
   "outputs": [],
   "source": [
    "data = {'New York': 12327, 'LA': 17129, 'San Francisco':19923}\n",
    "x = list(data.keys())\n",
    "height = list(data.values())\n",
    "#color = ['Red']\n",
    "width = 0.3"
   ]
  },
  {
   "cell_type": "code",
   "execution_count": 94,
   "id": "e54d6791",
   "metadata": {},
   "outputs": [
    {
     "data": {
      "image/png": "[encoded data removed]",
      "text/plain": [
       "<Figure size 432x288 with 1 Axes>"
      ]
     },
     "metadata": {},
     "output_type": "display_data"
    }
   ],
   "source": [
    "with plt.style.context('grayscale'):\n",
    "    plt.bar(x, height, width = width)\n",
    "    plt.xlabel('City')\n",
    "    plt.ylabel('Sales ($)')\n",
    "    plt.title('Sales Frequency Distribution')\n",
    "    plt.show()"
   ]
  },
  {
   "cell_type": "markdown",
   "id": "fd97b25b",
   "metadata": {},
   "source": [
    "### Pie Chart"
   ]
  },
  {
   "cell_type": "code",
   "execution_count": 63,
   "id": "c0478c27",
   "metadata": {},
   "outputs": [],
   "source": [
    "total = sum(list(data.values()))\n",
    "relative_freq = [round(freq/total,2) for freq in list(data.values())]"
   ]
  },
  {
   "cell_type": "code",
   "execution_count": 64,
   "id": "525b1df0",
   "metadata": {},
   "outputs": [
    {
     "data": {
      "text/html": [
       "<div>\n",
       "<style scoped>\n",
       "    .dataframe tbody tr th:only-of-type {\n",
       "        vertical-align: middle;\n",
       "    }\n",
       "\n",
       "    .dataframe tbody tr th {\n",
       "        vertical-align: top;\n",
       "    }\n",
       "\n",
       "    .dataframe thead th {\n",
       "        text-align: right;\n",
       "    }\n",
       "</style>\n",
       "<table border=\"1\" class=\"dataframe\">\n",
       "  <thead>\n",
       "    <tr style=\"text-align: right;\">\n",
       "      <th></th>\n",
       "      <th>City</th>\n",
       "      <th>Freq Distribution</th>\n",
       "      <th>Relative Freq</th>\n",
       "    </tr>\n",
       "  </thead>\n",
       "  <tbody>\n",
       "    <tr>\n",
       "      <th>0</th>\n",
       "      <td>New York</td>\n",
       "      <td>12327</td>\n",
       "      <td>0.25</td>\n",
       "    </tr>\n",
       "    <tr>\n",
       "      <th>1</th>\n",
       "      <td>LA</td>\n",
       "      <td>17129</td>\n",
       "      <td>0.35</td>\n",
       "    </tr>\n",
       "    <tr>\n",
       "      <th>2</th>\n",
       "      <td>San Francisco</td>\n",
       "      <td>19923</td>\n",
       "      <td>0.40</td>\n",
       "    </tr>\n",
       "  </tbody>\n",
       "</table>\n",
       "</div>"
      ],
      "text/plain": [
       "            City  Freq Distribution  Relative Freq\n",
       "0       New York              12327           0.25\n",
       "1             LA              17129           0.35\n",
       "2  San Francisco              19923           0.40"
      ]
     },
     "execution_count": 64,
     "metadata": {},
     "output_type": "execute_result"
    }
   ],
   "source": [
    "df['Relative Freq'] = relative_freq\n",
    "df"
   ]
  },
  {
   "cell_type": "code",
   "execution_count": 77,
   "id": "81feddd9",
   "metadata": {},
   "outputs": [
    {
     "data": {
      "image/png": "[encoded data removed]",
      "text/plain": [
       "<Figure size 576x396 with 1 Axes>"
      ]
     },
     "metadata": {},
     "output_type": "display_data"
    }
   ],
   "source": [
    "labels = list(data.keys())\n",
    "sizes = relative_freq\n",
    "explode = (0,0,0.1)\n",
    "\n",
    "with plt.style.context('seaborn'):\n",
    "    fig1, ax1 = plt.subplots()\n",
    "    ax1.pie(sizes, explode=explode, labels=labels, shadow=True, startangle = 90, autopct='%1.1f%%')\n",
    "    ax1.axis('equal')\n",
    "    plt.title('Ice Cream Sales')\n",
    "    plt.show()"
   ]
  },
  {
   "cell_type": "markdown",
   "id": "cea9dc89",
   "metadata": {},
   "source": [
    "### Pareto Diagram"
   ]
  },
  {
   "cell_type": "code",
   "execution_count": 80,
   "id": "753569de",
   "metadata": {},
   "outputs": [],
   "source": [
    "cummulative_freq = [sum(relative_freq[:i+1])*100 for i in range(0,len(relative_freq))]"
   ]
  },
  {
   "cell_type": "code",
   "execution_count": 82,
   "id": "6a19767c",
   "metadata": {},
   "outputs": [
    {
     "data": {
      "text/html": [
       "<div>\n",
       "<style scoped>\n",
       "    .dataframe tbody tr th:only-of-type {\n",
       "        vertical-align: middle;\n",
       "    }\n",
       "\n",
       "    .dataframe tbody tr th {\n",
       "        vertical-align: top;\n",
       "    }\n",
       "\n",
       "    .dataframe thead th {\n",
       "        text-align: right;\n",
       "    }\n",
       "</style>\n",
       "<table border=\"1\" class=\"dataframe\">\n",
       "  <thead>\n",
       "    <tr style=\"text-align: right;\">\n",
       "      <th></th>\n",
       "      <th>City</th>\n",
       "      <th>Freq Distribution</th>\n",
       "      <th>Relative Freq</th>\n",
       "      <th>Cummulative Freq</th>\n",
       "    </tr>\n",
       "  </thead>\n",
       "  <tbody>\n",
       "    <tr>\n",
       "      <th>0</th>\n",
       "      <td>New York</td>\n",
       "      <td>12327</td>\n",
       "      <td>0.25</td>\n",
       "      <td>25.0</td>\n",
       "    </tr>\n",
       "    <tr>\n",
       "      <th>1</th>\n",
       "      <td>LA</td>\n",
       "      <td>17129</td>\n",
       "      <td>0.35</td>\n",
       "      <td>60.0</td>\n",
       "    </tr>\n",
       "    <tr>\n",
       "      <th>2</th>\n",
       "      <td>San Francisco</td>\n",
       "      <td>19923</td>\n",
       "      <td>0.40</td>\n",
       "      <td>100.0</td>\n",
       "    </tr>\n",
       "  </tbody>\n",
       "</table>\n",
       "</div>"
      ],
      "text/plain": [
       "            City  Freq Distribution  Relative Freq  Cummulative Freq\n",
       "0       New York              12327           0.25              25.0\n",
       "1             LA              17129           0.35              60.0\n",
       "2  San Francisco              19923           0.40             100.0"
      ]
     },
     "execution_count": 82,
     "metadata": {},
     "output_type": "execute_result"
    }
   ],
   "source": [
    "df['Cummulative Freq'] = cummulative_freq\n",
    "df"
   ]
  },
  {
   "cell_type": "code",
   "execution_count": 93,
   "id": "6697c18a",
   "metadata": {},
   "outputs": [
    {
     "data": {
      "image/png": "[encoded data removed]",
      "text/plain": [
       "<Figure size 432x288 with 2 Axes>"
      ]
     },
     "metadata": {},
     "output_type": "display_data"
    }
   ],
   "source": [
    "x = list(data.keys())\n",
    "y1 = list(data.values())\n",
    "y2 = cummulative_freq\n",
    "\n",
    "with plt.style.context('ggplot'):\n",
    "    fig, ax1 = plt.subplots()\n",
    "    ax1.set_xlabel('Sales ($)')\n",
    "    ax1.set_ylabel('City')\n",
    "    ax1.bar(x,y1)\n",
    "\n",
    "    ax2 = ax1.twinx()\n",
    "    ax2.set_ylabel('Cummulative Freq')\n",
    "    ax2.plot(x,y2,color='Blue')\n",
    "    \n",
    "    fig.tight_layout()\n",
    "    plt.show()"
   ]
  },
  {
   "cell_type": "code",
   "execution_count": null,
   "id": "cbed385b",
   "metadata": {},
   "outputs": [],
   "source": []
  }
 ],
 "metadata": {
  "kernelspec": {
   "display_name": "Python 3.9.6 64-bit",
   "language": "python",
   "name": "python396jvsc74a57bd07812ea015bdcee6f23a998adcdd2ef97c151c0c241b7b7070987d9313e41299d"
  },
  "language_info": {
   "codemirror_mode": {
    "name": "ipython",
    "version": 3
   },
   "file_extension": ".py",
   "mimetype": "text/x-python",
   "name": "python",
   "nbconvert_exporter": "python",
   "pygments_lexer": "ipython3",
   "version": "3.9.6"
  }
 },
 "nbformat": 4,
 "nbformat_minor": 5
}
